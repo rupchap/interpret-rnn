{
 "cells": [
  {
   "cell_type": "code",
   "execution_count": 117,
   "metadata": {
    "collapsed": true
   },
   "outputs": [],
   "source": [
    "filename = '/home/rupchap/data/NYT/nyt-freebase.train.triples.universal.mention.txt'"
   ]
  },
  {
   "cell_type": "code",
   "execution_count": 118,
   "metadata": {
    "collapsed": false
   },
   "outputs": [
    {
     "data": {
      "text/plain": [
       "<function close>"
      ]
     },
     "execution_count": 118,
     "metadata": {},
     "output_type": "execute_result"
    }
   ],
   "source": [
    "# Open file and read in lines\n",
    "f = open(filename, 'r')\n",
    "lines = f.readlines()\n",
    "f.close"
   ]
  },
  {
   "cell_type": "code",
   "execution_count": 119,
   "metadata": {
    "collapsed": false
   },
   "outputs": [],
   "source": [
    "# filter out '#Document' lines\n",
    "lines = filter(lambda x: not x.startswith('#Document'), lines)"
   ]
  },
  {
   "cell_type": "code",
   "execution_count": 120,
   "metadata": {
    "collapsed": true
   },
   "outputs": [],
   "source": [
    "def first_str_startswith(items, start):\n",
    "    return next((i[len(start):] for i in items if i.startswith(start)), None)"
   ]
  },
  {
   "cell_type": "code",
   "execution_count": 121,
   "metadata": {
    "collapsed": true
   },
   "outputs": [],
   "source": [
    "def extractcol(colname, lines):\n",
    "    col = map(lambda x: first_str_startswith(x.split('\\t'), colname), lines)\n",
    "    return col #map(lambda x: x[len(colname):], col)"
   ]
  },
  {
   "cell_type": "code",
   "execution_count": 122,
   "metadata": {
    "collapsed": true
   },
   "outputs": [],
   "source": [
    "label = map(lambda x: x.split('\\t')[0], lines)\n",
    "ent1 = map(lambda x: x.split('\\t')[1], lines)\n",
    "ent2 = map(lambda x: x.split('\\t')[2], lines)"
   ]
  },
  {
   "cell_type": "code",
   "execution_count": 123,
   "metadata": {
    "collapsed": false
   },
   "outputs": [],
   "source": [
    "rel = extractcol('REL$', lines)\n",
    "path = extractcol('path#', lines)\n",
    "pos = extractcol('pos#', lines)\n",
    "lc =  extractcol('lc#', lines)\n",
    "rc =  extractcol('rc#', lines)\n",
    "lex =  extractcol('lex#', lines)\n",
    "trigger =  extractcol('trigger#', lines)\n",
    "sen = extractcol('sen#', lines)\n",
    "# drop trailing new line indicator from sentence\n",
    "sen = map(lambda x: x[:-3],sen)"
   ]
  },
  {
   "cell_type": "code",
   "execution_count": null,
   "metadata": {
    "collapsed": true
   },
   "outputs": [],
   "source": []
  }
 ],
 "metadata": {
  "kernelspec": {
   "display_name": "Python 2",
   "language": "python",
   "name": "python2"
  },
  "language_info": {
   "codemirror_mode": {
    "name": "ipython",
    "version": 2
   },
   "file_extension": ".py",
   "mimetype": "text/x-python",
   "name": "python",
   "nbconvert_exporter": "python",
   "pygments_lexer": "ipython2",
   "version": "2.7.11"
  }
 },
 "nbformat": 4,
 "nbformat_minor": 0
}
